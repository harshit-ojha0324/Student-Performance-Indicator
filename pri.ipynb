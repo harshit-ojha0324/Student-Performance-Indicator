{
 "cells": [
  {
   "cell_type": "code",
   "execution_count": 1,
   "metadata": {},
   "outputs": [
    {
     "name": "stdout",
     "output_type": "stream",
     "text": [
      "   Actual Scores  Predicted Scores\n",
      "0             72         67.098439\n",
      "1             69         69.649631\n",
      "2             90         70.371865\n",
      "3             47         67.030465\n",
      "4             76         69.746133\n",
      "5             71         67.538878\n",
      "6             88         64.145298\n",
      "7             40         67.332112\n",
      "8             64         74.994208\n",
      "9             38         68.336029\n"
     ]
    }
   ],
   "source": [
    "import pandas as pd\n",
    "import joblib\n",
    "\n",
    "# Load the student data, considering only the first 10 rows\n",
    "student_data = pd.read_csv('data/stud.csv').head(10)\n",
    "\n",
    "# Assume 'math_score' is the score we want to predict (adjust the column name if it's different)\n",
    "actual_scores = student_data[['math_score']]  # Adjust if the actual scores are from a different column\n",
    "\n",
    "# Load the preprocessor and Ridge model\n",
    "preprocessor = joblib.load('consistent_preprocessor.pkl')\n",
    "ridge_model = joblib.load('best_ridge_model.pkl')\n",
    "\n",
    "# Preprocess the data\n",
    "# Assuming 'student_data' only contains the features used by the model (remove target if included)\n",
    "X_processed = preprocessor.transform(student_data.drop('math_score', axis=1))\n",
    "\n",
    "# Predict using the Ridge model\n",
    "predictions = ridge_model.predict(X_processed)\n",
    "\n",
    "# Create a DataFrame to display the actual and predicted scores\n",
    "scores_comparison = pd.DataFrame({\n",
    "    'Actual Scores': actual_scores.squeeze(),  # Squeeze if actual_scores returns a DataFrame\n",
    "    'Predicted Scores': predictions\n",
    "})\n",
    "\n",
    "# Display the comparison\n",
    "print(scores_comparison)\n"
   ]
  }
 ],
 "metadata": {
  "kernelspec": {
   "display_name": "venev",
   "language": "python",
   "name": "python3"
  },
  "language_info": {
   "codemirror_mode": {
    "name": "ipython",
    "version": 3
   },
   "file_extension": ".py",
   "mimetype": "text/x-python",
   "name": "python",
   "nbconvert_exporter": "python",
   "pygments_lexer": "ipython3",
   "version": "3.10.14"
  }
 },
 "nbformat": 4,
 "nbformat_minor": 2
}
